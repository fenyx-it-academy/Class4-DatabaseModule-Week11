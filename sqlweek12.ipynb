{
 "metadata": {
  "language_info": {
   "codemirror_mode": {
    "name": "ipython",
    "version": 3
   },
   "file_extension": ".py",
   "mimetype": "text/x-python",
   "name": "python",
   "nbconvert_exporter": "python",
   "pygments_lexer": "ipython3",
   "version": "3.9.2-final"
  },
  "orig_nbformat": 2,
  "kernelspec": {
   "name": "python392jvsc74a57bd070dc6e59c876987feb607a01dfc3a1f1db267110d2b6cf914c9a9f09e8ab1daa",
   "display_name": "Python 3.9.2 64-bit"
  },
  "metadata": {
   "interpreter": {
    "hash": "70dc6e59c876987feb607a01dfc3a1f1db267110d2b6cf914c9a9f09e8ab1daa"
   }
  }
 },
 "nbformat": 4,
 "nbformat_minor": 2,
 "cells": [
  {
   "cell_type": "code",
   "execution_count": null,
   "metadata": {},
   "outputs": [],
   "source": [
    "'''soru3:)1-customer--adress ===> many to one ===>her musterini bir adresi olmak zorundadir\n",
    "          2-adress--city ===>one(nandotary)to many(option) ===> her adresin bir sehir olmak zorundadir.\n",
    "          3-\n",
    "          4-\n",
    "          5-\n",
    "'''"
   ]
  },
  {
   "cell_type": "code",
   "execution_count": null,
   "metadata": {},
   "outputs": [],
   "source": [
    "#soru6 \n",
    "# CREATING TABLES\n",
    "import psycopg2\n",
    "conn = psycopg2.connect(database=\"class4\", user='postgres', password='2520')\n",
    "cursor=conn.cursor()\n",
    "cursor.execute(\"DROP TABLE IF EXISTS category\")\n",
    "sql ='''CREATE TABLE category(\n",
    "   category_id int PRIMARY KEY NOT NULL ,\n",
    "   name CHAR(50),\n",
    "   last_update DATE\n",
    ")'''\n",
    "cursor.execute(sql)\n",
    "cursor.execute(\"DROP TABLE IF EXISTS inventory\")\n",
    "sql ='''CREATE TABLE inventory(\n",
    "   inventory_id int PRIMARY KEY NOT NULL ,\n",
    "   film_id CHAR(50),\n",
    "   store_id int,\n",
    "   last_update DATE\n",
    ")'''\n",
    "cursor.execute(sql)\n",
    "#CREATING LANGUAGE TABLE\n",
    "cursor.execute(\"DROP TABLE IF EXISTS language\")\n",
    "sql='''CREATE TABLE language(\n",
    "    language_id INT PRIMARY KEY NOT NULL,\n",
    "    name VARCHAR(50),\n",
    "    last_update DATE\n",
    ")'''\n",
    "cursor.execute(sql)\n",
    "cursor.close()\n",
    "conn.commit()\n",
    "print(\"Table created successfully........\")\n",
    "conn.close()"
   ]
  },
  {
   "cell_type": "code",
   "execution_count": null,
   "metadata": {},
   "outputs": [],
   "source": [
    "#soru9 TABLE INSERT\n",
    "import psycopg2\n",
    "conn=psycopg2.connect(database=\"class4\", user=\"postgres\", password=\"2520\")\n",
    "cursor=conn.cursor()\n",
    "#LANGUAGE TABLE INSERT\n",
    "insert_many='''INSERT INTO language (language_id,name,last_update)\n",
    "VALUES (%s,%s,%s)'''\n",
    "data=[('66666','Turkije','4/6/2021'),\n",
    "('77777','Fin','4/6/2021'),\n",
    "('88888','cin','4/6/2021')]\n",
    "cursor.executemany(insert_many,data)\n",
    "#LANGUAGE TABLE INSERT\n",
    "cursor.execute('''INSERT INTO language(language_id,name,last_update)\n",
    "VALUES('12345','French', '4/6/2021') ''')\n",
    "cursor.execute('''INSERT INTO language(language_id,name,last_update)\n",
    "VALUES('32145','English', '4/6/2021') ''')\n",
    "cursor.execute('''INSERT INTO language(language_id,name,last_update)\n",
    "VALUES('4321','Dutch', '4/6/2021') ''')\n",
    "#INVENTORY TABLE INSERT \n",
    "insert_many='''INSERT INTO inventory (inventory_id,film_id,store_id,last_update) \n",
    "VALUES(%s,%s,%s,%s)'''\n",
    "data=[('1000001','555','55','5/5/2005'),\n",
    "('2000002','666','66','6/6/2006')]\n",
    "cursor.executemany(insert_many,data)\n",
    "#CATEGORY TABLE INSERT\n",
    "insert_many=''' INSERT INTO category (category_id,name,last_update)\n",
    "VALUES(%s,%s,%s)'''\n",
    "data=[('3333333','Action','4/4/2004'),\n",
    "('111111','comedy','5/5/2005')]\n",
    "cursor.executemany(insert_many,data)\n",
    "conn.commit()\n",
    "print('Record inserted...........')\n",
    "conn.close()"
   ]
  },
  {
   "cell_type": "code",
   "execution_count": null,
   "metadata": {},
   "outputs": [],
   "source": [
    "#soru 12\n",
    "import psycopg2\n",
    "conn=psycopg2.connect(database=\"class4\", user=\"postgres\", password=\"2520\")\n",
    "cursor=conn.cursor()\n",
    "sql=''' UPDATE language SET last_update='7/7/2021' '''           #information are changed last_update column\n",
    "sql=''' UPDATE inventory SET store_id='77' WHERE last_update='6/6/2006' ''' #only last update dates  6/6/2006\n",
    "sql=''' UPDATE category SET name='komik' WHERE name='comedy' ''' \n",
    "cursor.execute(sql)\n",
    "conn.commit()\n",
    "print(\"Record is changed.........\")\n",
    "conn.close()"
   ]
  },
  {
   "cell_type": "code",
   "execution_count": null,
   "metadata": {},
   "outputs": [],
   "source": [
    "#soru 15\n",
    "import psycopg2\n",
    "conn=psycopg2.connect(database=\"class4\", user=\"postgres\", password=\"2520\")\n",
    "cursor=conn.cursor()\n",
    "sql='''DELETE FROM category WHERE name='komik' '''\n",
    "cursor.execute(sql)\n",
    "sql='''DELETE FROM inventory WHERE store_id='66' '''\n",
    "cursor.execute(sql)\n",
    "sql='''DELETE FROM language WHERE language_id='4321' '''\n",
    "cursor.execute(sql)\n",
    "cursor.close()\n",
    "conn.commit()\n",
    "conn.close()"
   ]
  },
  {
   "cell_type": "code",
   "execution_count": null,
   "metadata": {},
   "outputs": [],
   "source": [
    "#SORU 18\n",
    "import psycopg2\n",
    "conn=psycopg2.connect(database=\"class4\", user=\"postgres\", password=\"2520\")\n",
    "cursor=conn.cursor()\n",
    "cursor.execute(\"DROP TABLE inventory\")\n",
    "print('Table dropped......')\n",
    "conn.commit()\n",
    "conn.close()"
   ]
  },
  {
   "cell_type": "code",
   "execution_count": null,
   "metadata": {},
   "outputs": [],
   "source": [
    "#soru 20\n",
    "import psycopg2\n",
    "conn=psycopg2.connect(database=\"class4\", user=\"postgres\", password=\"2520\")\n",
    "cursor=conn.cursor()\n",
    "cursor.execute(''' CREATE TABLE language_2 AS SELECT name, last_update FROM language  ''' )\n",
    "conn.commit()\n",
    "conn.close()"
   ]
  },
  {
   "cell_type": "code",
   "execution_count": null,
   "metadata": {},
   "outputs": [],
   "source": [
    "#soru 23\n",
    "import psycopg2\n",
    "conn=psycopg2.connect(database=\"class4\", user=\"postgres\", password=\"2520\")\n",
    "cursor=conn.cursor()\n",
    "cursor.execute(''' TRUNCATE TABLE category''')\n",
    "conn.commit()\n",
    "conn.close()"
   ]
  },
  {
   "cell_type": "code",
   "execution_count": null,
   "metadata": {},
   "outputs": [],
   "source": [
    "#soru 26\n",
    "import psycopg2\n",
    "conn=psycopg2.connect(database=\"class4\", user=\"postgres\", password=\"2520\")\n",
    "cursor=conn.cursor()\n",
    "cursor.execute(\"DROP TABLE category\")\n",
    "print('Table dropped......')\n",
    "conn.commit()\n",
    "conn.close()"
   ]
  },
  {
   "cell_type": "code",
   "execution_count": null,
   "metadata": {},
   "outputs": [],
   "source": [
    "#soru 27\n",
    "'''\n",
    "COPY language\n",
    "TO '/Users/Hallo/Desktop/PYTHON/PycodersOO/table_export.csv'\n",
    "DELIMITER ',' \n",
    "CSV HEADER;\n",
    "'''"
   ]
  },
  {
   "cell_type": "code",
   "execution_count": null,
   "metadata": {},
   "outputs": [],
   "source": [
    "#soru 28\n",
    "'''\n",
    "DROP TABLE inventory;\n",
    "'''"
   ]
  },
  {
   "cell_type": "code",
   "execution_count": null,
   "metadata": {},
   "outputs": [],
   "source": [
    "#soru 29\n",
    "'''\n",
    "COPY language\n",
    "FROM '/Users/Hallo/Desktop/PYTHON/PycodersOO/table_export.csv'\n",
    "DELIMITER ','\n",
    "CSV HEADER;"
   ]
  },
  {
   "cell_type": "code",
   "execution_count": null,
   "metadata": {},
   "outputs": [],
   "source": [
    "#soru 30\n",
    "import psycopg2\n",
    "conn=psycopg2.connect(database=\"class4\", user=\"postgres\", password=\"2520\")\n",
    "cursor=conn.cursor()\n",
    "cursor.execute(\"DROP TABLE language\")\n",
    "print('Table dropped......')\n",
    "conn.commit()\n",
    "conn.close()"
   ]
  },
  {
   "cell_type": "code",
   "execution_count": null,
   "metadata": {},
   "outputs": [],
   "source": [
    "#soru 32\n",
    "'''\n",
    "TABLE categry;"
   ]
  },
  {
   "cell_type": "code",
   "execution_count": null,
   "metadata": {},
   "outputs": [],
   "source": [
    "#soru 33\n",
    "'''\n",
    "SELECT AVG (length) from film;          cevap:115.2720000000000000\n"
   ]
  },
  {
   "cell_type": "code",
   "execution_count": null,
   "metadata": {},
   "outputs": [],
   "source": [
    "#soru 35\n",
    "'''\n",
    "SELECT rating FROM film WHERE film_id in (SELECT film_id FROM film_actor WHERE actor_id=(SELECT actor_id FROM actor WHERE first_name='Gene' AND last_name='Willis'));\n",
    "\n",
    "'''\n"
   ]
  },
  {
   "cell_type": "code",
   "execution_count": null,
   "metadata": {},
   "outputs": [],
   "source": [
    "#soru 37\n",
    "'''\n",
    "SELECT * FROM film  WHERE title LIKE 'C%';\n",
    "\n",
    "'''\n"
   ]
  }
 ]
}