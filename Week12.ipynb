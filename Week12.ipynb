{
 "cells": [
  {
   "cell_type": "markdown",
   "metadata": {},
   "source": [
    "# Malik YILMAZ"
   ]
  },
  {
   "cell_type": "markdown",
   "metadata": {},
   "source": [
    "# Class4-DatabaseModule-Week12"
   ]
  },
  {
   "cell_type": "markdown",
   "metadata": {},
   "source": [
    "## 1- 'pycoders' isimli bir server kurun. (M)"
   ]
  },
  {
   "cell_type": "markdown",
   "metadata": {},
   "source": [
    "## Kuruldu."
   ]
  },
  {
   "cell_type": "markdown",
   "metadata": {},
   "source": [
    "## 2- 'class4' database olusturun (M). Database silin (M). Ayni database yine olusturun (K)"
   ]
  },
  {
   "cell_type": "code",
   "execution_count": null,
   "metadata": {},
   "outputs": [],
   "source": [
    "create database class4"
   ]
  },
  {
   "cell_type": "markdown",
   "metadata": {},
   "source": [
    "## 3. https://www.postgresqltutorial.com/postgresql-sample-database/ adresine gidin ve ER modeli inceleyin. \n",
    "Tablolar arasindaki en az 5 iliskiyi yazin.(Hangi tablolar arasinda ne tur bir iliski var)"
   ]
  },
  {
   "cell_type": "markdown",
   "metadata": {},
   "source": [
    "## 4- ER modeldeki tablolardan 3 tanesini M olusturun."
   ]
  },
  {
   "cell_type": "code",
   "execution_count": null,
   "metadata": {},
   "outputs": [],
   "source": [
    "Olusturuldu."
   ]
  },
  {
   "cell_type": "markdown",
   "metadata": {},
   "source": [
    "## 5- ER modeldeki tablolardan 3 tanesini K olusturun."
   ]
  },
  {
   "cell_type": "code",
   "execution_count": null,
   "metadata": {},
   "outputs": [],
   "source": [
    "CREATE TABLE rental (\n",
    "rental_id int primary key not null,\n",
    "rental_date date,\n",
    "inventory_date date,\n",
    "costumer_id int,\n",
    "return_date date,\n",
    "staff_id int,\n",
    "last_update date);\n",
    "\n",
    "CREATE TABLE city ( \n",
    "city_id int primary key not null,\n",
    "city varchar(15),\n",
    "country_id int,\n",
    "costumer_id int,\n",
    "last_update date);\n",
    "\n",
    "CREATE TABLE actor (\n",
    "actor_id serial PRIMARY KEY,\n",
    "first_name VARCHAR ( 50 ) NOT NULL,\n",
    "last_name VARCHAR ( 50 ) NOT NULL,\n",
    "last_login TIMESTAMP);\n",
    "\n",
    "CREATE TABLE language (\n",
    "language_id serial PRIMARY KEY,\n",
    "name VARCHAR ( 20 ) UNIQUE NOT NULL,\n",
    "last_update TIMESTAMP);\n",
    "\n",
    "CREATE TABLE film_actor (\n",
    " film_id INT NOT NULL,\n",
    " actor_id INT NOT NULL,\n",
    " last_update TIMESTAMP,\n",
    " PRIMARY KEY (film_id, actor_id),\n",
    " FOREIGN KEY (film_id)\n",
    " REFERENCES film (film_id),\n",
    " FOREIGN KEY (actor_id)\n",
    " REFERENCES actor (actor_id))"
   ]
  },
  {
   "cell_type": "markdown",
   "metadata": {},
   "source": [
    "## 6- ER modeldeki tablolardan 3 tanesini C olusturun.\n",
    "(4-5-6. sorulari cozerken toblolar arasindaki iliskileri gozardi edebilirsiniz. Tum kolonlari girmek zorunda \n",
    "degilsiniz, en az 2 kolon olmasi yeterli.)"
   ]
  },
  {
   "cell_type": "markdown",
   "metadata": {},
   "source": [
    "### 1"
   ]
  },
  {
   "cell_type": "code",
   "execution_count": null,
   "metadata": {},
   "outputs": [],
   "source": [
    "import psycopg2\n",
    "conn = psycopg2.connect(\"dbname = class4 user=postgres password = 124578\")\n",
    "cur = conn.cursor()\n",
    "cur.execute(\n",
    "\"\"\" CREATE TABLE rental (\n",
    "rental_id int primary key not null,\n",
    "rental_date date,\n",
    "inventory_date date,\n",
    "costumer_id int,\n",
    "return_date date,\n",
    "staff_id int,\n",
    "last_update date)\"\"\")\n",
    "cur.close()\n",
    "conn.commit()\n"
   ]
  },
  {
   "cell_type": "markdown",
   "metadata": {},
   "source": [
    "### 2"
   ]
  },
  {
   "cell_type": "code",
   "execution_count": null,
   "metadata": {},
   "outputs": [],
   "source": [
    "import psycopg2\n",
    "conn = psycopg2.connect(\"dbname = class4 user=postgres password = 124578\")\n",
    "cur = conn.cursor()\n",
    "cur.execute(\n",
    "\"\"\" CREATE TABLE city ( \n",
    "city_id int primary key not null,\n",
    "city varchar(15),\n",
    "country_id int,\n",
    "last_update date)\"\"\")\n",
    "cur.close()\n",
    "conn.commit()"
   ]
  },
  {
   "cell_type": "markdown",
   "metadata": {},
   "source": [
    "### 3"
   ]
  },
  {
   "cell_type": "code",
   "execution_count": null,
   "metadata": {},
   "outputs": [],
   "source": [
    "import psycopg2\n",
    "conn = psycopg2.connect(\"dbname = class4 user=postgres password = 124578\")\n",
    "cur = conn.cursor()\n",
    "cur.execute(\n",
    "\"\"\" CREATE TABLE actor (\n",
    "actor_id serial PRIMARY KEY,\n",
    "first_name VARCHAR ( 50 ) NOT NULL,\n",
    "last_name VARCHAR ( 50 ) NOT NULL,\n",
    "last_login TIMESTAMP)\"\"\")\n",
    "cur.close()\n",
    "conn.commit()"
   ]
  },
  {
   "cell_type": "markdown",
   "metadata": {},
   "source": [
    "### 4"
   ]
  },
  {
   "cell_type": "code",
   "execution_count": null,
   "metadata": {},
   "outputs": [],
   "source": [
    "import psycopg2\n",
    "conn = psycopg2.connect(\"dbname = class4 user=postgres password = 124578\")\n",
    "cur = conn.cursor()\n",
    "cur.execute(\n",
    "\"\"\" CREATE TABLE language (\n",
    "language_id serial PRIMARY KEY,\n",
    "name VARCHAR ( 20 ) UNIQUE NOT NULL,\n",
    "last_update TIMESTAMP)\"\"\")\n",
    "cur.close()\n",
    "conn.commit()"
   ]
  },
  {
   "cell_type": "markdown",
   "metadata": {},
   "source": [
    "### 5"
   ]
  },
  {
   "cell_type": "code",
   "execution_count": null,
   "metadata": {},
   "outputs": [],
   "source": [
    "import psycopg2\n",
    "conn = psycopg2.connect(\"dbname=class4 user=postgres password=124578\")\n",
    "cur = conn.cursor()\n",
    "cur.execute(\n",
    "\"\"\" CREATE TABLE payment (\n",
    "payment_id INT NOT NULL,\n",
    "payment_date TIMESTAMP,\n",
    "rental_id INT NOT NULL,\n",
    "PRIMARY KEY (payment_id),\n",
    "REFERENCES rental (rental_id))\"\"\"\n",
    ")\n",
    "cur.close()\n",
    "conn.commit()\n",
    "conn.close()"
   ]
  },
  {
   "cell_type": "markdown",
   "metadata": {},
   "source": [
    "## 7- Olusturdugunuz 3 tabloya M ile 5 veri girisi yapin."
   ]
  },
  {
   "cell_type": "code",
   "execution_count": null,
   "metadata": {},
   "outputs": [],
   "source": [
    "Yapildi."
   ]
  },
  {
   "cell_type": "markdown",
   "metadata": {},
   "source": [
    "## 8- Olusturdugunuz 3 tabloya K ile 5 veri girisi yapin.\n"
   ]
  },
  {
   "cell_type": "code",
   "execution_count": null,
   "metadata": {},
   "outputs": [],
   "source": [
    "insert into payment values (1, '01/04/2021',10);\n",
    "insert into payment values (2, '02/04/2021',20);\n",
    "insert into payment values (3, '03/04/2021',30);\n",
    "insert into payment values (4, '04/04/2021',40);\n",
    "insert into payment values (5, '05/04/2021',50);\n",
    "\n",
    "insert into language values (1, 'English' , '01/04/2021');\n",
    "insert into language values (2, 'Italian' , '02/04/2021');\n",
    "insert into language values (3, 'Japanese' , '03/04/2021');\n",
    "insert into language values (4, 'French' , '04/04/2021');\n",
    "insert into language values (5, 'German' , '05/04/2021');\n",
    "\n",
    "insert into city values (1, 'Istanbul', 1, '01/04/2021');\n",
    "insert into city values (2, 'Paris', 2, '02/04/2021');\n",
    "insert into city values (3, 'London', 3, '03/04/2021');\n",
    "insert into city values (4, 'Berlin', 4, '04/04/2021');\n",
    "insert into city values (5, 'Amsterdam', 5, '05/04/2021');"
   ]
  },
  {
   "cell_type": "markdown",
   "metadata": {},
   "source": [
    "## 9- Olusturdugunuz 3 tabloya C ile 5 veri girisi yapin.\n"
   ]
  },
  {
   "cell_type": "code",
   "execution_count": null,
   "metadata": {},
   "outputs": [],
   "source": [
    "import psycopg2\n",
    "conn = psycopg2.connect(\"dbname = class4 user=postgres password=124578\")\n",
    "cur = conn.cursor()\n",
    "cur.execute(\"insert into payment values (1, '01/04/2021',10)\")\n",
    "cur.execute(\"insert into payment values (2, '02/04/2021',20)\")\n",
    "cur.execute(\"insert into payment values (3, '03/04/2021',30)\")\n",
    "cur.execute(\"insert into payment values (4, '04/04/2021',40)\")\n",
    "cur.execute(\"insert into payment values (5, '05/04/2021',50)\")\n",
    "cur.close()\n",
    "conn.commit()\n",
    "conn.close()"
   ]
  },
  {
   "cell_type": "code",
   "execution_count": null,
   "metadata": {},
   "outputs": [],
   "source": [
    "import psycopg2\n",
    "conn = psycopg2.connect(\"dbname = class4 user=postgres password=124578\")\n",
    "cur = conn.cursor()\n",
    "cur.execute(\"insert into language values (1, 'English' , '01/04/2021')\")\n",
    "cur.execute(\"insert into language values (2, 'Italian' , '02/04/2021')\")\n",
    "cur.execute(\"insert into language values (3, 'Japanese' , '03/04/2021')\")\n",
    "cur.execute(\"insert into language values (4, 'French' , '04/04/2021')\")\n",
    "cur.execute(\"insert into language values (5, 'German' , '05/04/2021')\")\n",
    "cur.close()\n",
    "conn.commit()\n",
    "conn.close()\n"
   ]
  },
  {
   "cell_type": "code",
   "execution_count": null,
   "metadata": {},
   "outputs": [],
   "source": [
    "import psycopg2\n",
    "conn = psycopg2.connect(\"dbname = class4 user=postgres password=124578\")\n",
    "cur = conn.cursor()\n",
    "cur.execute(\"insert into city values (1, 'Istanbul', 1, '01/04/2021')\")\n",
    "cur.execute(\"insert into city values (2, 'Paris', 2, '02/04/2021')\")\n",
    "cur.execute(\"insert into city values (3, 'London', 3, '03/04/2021')\")\n",
    "cur.execute(\"insert into city values (4, 'Berlin', 4, '04/04/2021')\")\n",
    "cur.execute(\"insert into city values (5, 'Amsterdam', 5, '05/04/2021')\")\n",
    "cur.close()\n",
    "conn.commit()\n",
    "conn.close()\n"
   ]
  },
  {
   "cell_type": "markdown",
   "metadata": {},
   "source": [
    "## 10- 3 tablodaki birer veriyi M ile degistirin."
   ]
  },
  {
   "cell_type": "code",
   "execution_count": null,
   "metadata": {},
   "outputs": [],
   "source": [
    "Degistirildi"
   ]
  },
  {
   "cell_type": "markdown",
   "metadata": {},
   "source": [
    "## 11- 3 tablodaki birer veriyi K ile degistirin.\n"
   ]
  },
  {
   "cell_type": "code",
   "execution_count": null,
   "metadata": {},
   "outputs": [],
   "source": [
    "update language set name = 'English' where name = 'Italian'\n",
    "update city set city='Istanbul' where city ='Paris'\n",
    "update payment set payment_date='01/04/2021' where payment_date='01/04/2021'"
   ]
  },
  {
   "cell_type": "markdown",
   "metadata": {},
   "source": [
    "## 12- 3 tablodaki birer veriyi C ile degistirin."
   ]
  },
  {
   "cell_type": "code",
   "execution_count": null,
   "metadata": {},
   "outputs": [],
   "source": [
    "conn=psycopg2.connect(\"dbname=class4 user=postgres password=124578\")\n",
    "cur=conn.cursor()\n",
    "cur.execute(\"update language set name = 'English' where name = 'Italian'\")\n",
    "cur.close()\n",
    "conn.commit()\n",
    "conn.close()"
   ]
  },
  {
   "cell_type": "code",
   "execution_count": null,
   "metadata": {},
   "outputs": [],
   "source": [
    "conn=psycopg2.connect(\"dbname=class4 user=postgres password=124578\")\n",
    "cur=conn.cursor()\n",
    "cur.execute(\"update city set city='Istanbul' where city ='Paris'\")\n",
    "cur.close()\n",
    "conn.commit()\n",
    "conn.close()"
   ]
  },
  {
   "cell_type": "code",
   "execution_count": null,
   "metadata": {},
   "outputs": [],
   "source": [
    "conn=psycopg2.connect(\"dbname=class4 user=postgres password=124578\")\n",
    "cur=conn.cursor()\n",
    "cur.execute(\"update payment set payment_date='01/04/2021' where payment_date='01/04/2021'\")\n",
    "cur.close()\n",
    "conn.commit()\n",
    "conn.close()"
   ]
  },
  {
   "cell_type": "markdown",
   "metadata": {},
   "source": [
    "## 13- 3 tablonun son satirini M ile silin"
   ]
  },
  {
   "cell_type": "code",
   "execution_count": null,
   "metadata": {},
   "outputs": [],
   "source": [
    "Silindi."
   ]
  },
  {
   "cell_type": "markdown",
   "metadata": {},
   "source": [
    "## 14- 3 tablonun son satirini K ile silin."
   ]
  },
  {
   "cell_type": "code",
   "execution_count": null,
   "metadata": {},
   "outputs": [],
   "source": [
    "DELETE FROM language WHERE language_id =( SELECT MAX (language_id) FROM language);\n",
    "DELETE FROM city WHERE city_id =( SELECT MAX (city_id) FROM city);\n",
    "DELETE FROM payment WHERE payment_id =( SELECT MAX (payment_id) FROM payment);"
   ]
  },
  {
   "cell_type": "markdown",
   "metadata": {},
   "source": [
    "## 15. 3 tablonun son satirini C ile silin"
   ]
  },
  {
   "cell_type": "code",
   "execution_count": null,
   "metadata": {},
   "outputs": [],
   "source": [
    "conn=psycopg2.connect(\"dbname=class4 user=postgres password=124578\")\n",
    "cur=conn.cursor()\n",
    "cur.execute(\"DELETE FROM language WHERE language_id =( SELECT MAX (language_id) FROM language)\")\n",
    "cur.close()\n",
    "conn.commit()\n",
    "conn.close()"
   ]
  },
  {
   "cell_type": "code",
   "execution_count": null,
   "metadata": {},
   "outputs": [],
   "source": [
    "conn=psycopg2.connect(\"dbname=class4 user=postgres password=124578\")\n",
    "cur=conn.cursor()\n",
    "cur.execute(\"DELETE FROM city WHERE city_id =( SELECT MAX (city_id) FROM city)\")\n",
    "cur.close()\n",
    "conn.commit()\n",
    "conn.close()"
   ]
  },
  {
   "cell_type": "code",
   "execution_count": null,
   "metadata": {},
   "outputs": [],
   "source": [
    "conn=psycopg2.connect(\"dbname=class4 user=postgres password=124578\")\n",
    "cur=conn.cursor()\n",
    "cur.execute(\"DELETE FROM payment WHERE payment_id =( SELECT MAX (payment_id) FROM payment)\")\n",
    "cur.close()\n",
    "conn.commit()\n",
    "conn.close()"
   ]
  },
  {
   "cell_type": "markdown",
   "metadata": {},
   "source": [
    "## 16. 1 tabloyu M ile silin."
   ]
  },
  {
   "cell_type": "code",
   "execution_count": null,
   "metadata": {},
   "outputs": [],
   "source": [
    "Silindi."
   ]
  },
  {
   "cell_type": "markdown",
   "metadata": {},
   "source": [
    "## 17. 1 tabloyu K ile silin"
   ]
  },
  {
   "cell_type": "code",
   "execution_count": null,
   "metadata": {},
   "outputs": [],
   "source": [
    "drop table language"
   ]
  },
  {
   "cell_type": "markdown",
   "metadata": {},
   "source": [
    "## 18. 1 tabloyu C ile silin."
   ]
  },
  {
   "cell_type": "code",
   "execution_count": null,
   "metadata": {},
   "outputs": [],
   "source": [
    "conn=psycopg2.connect(\"dbname=class4 user=postgres password=124578\")\n",
    "cur=conn.cursor()\n",
    "cur.execute(\"drop table payment\")\n",
    "cur.close()\n",
    "conn.commit()\n",
    "conn.close()"
   ]
  },
  {
   "cell_type": "markdown",
   "metadata": {},
   "source": [
    "## 19. Kalan tablolardan 1 tanesinin 2 veya 3 sutununu K ile baska bir tablo olarak olusturun."
   ]
  },
  {
   "cell_type": "code",
   "execution_count": null,
   "metadata": {},
   "outputs": [],
   "source": [
    "CREATE TABLE new_city AS SELECT (city), (country_id) FROM city;"
   ]
  },
  {
   "cell_type": "markdown",
   "metadata": {},
   "source": [
    "## 20. Kalan tablolardan 1 tanesinin 2 veya 3 sutununu C ile baska bir tablo olarak olusturun."
   ]
  },
  {
   "cell_type": "code",
   "execution_count": null,
   "metadata": {},
   "outputs": [],
   "source": [
    "conn=psycopg2.connect(\"dbname=class4 user=postgres password=124578\")\n",
    "cur=conn.cursor()\n",
    "cur.execute(\"CREATE TABLE new_city_2 AS SELECT  (country_id),(city) FROM city\")\n",
    "cur.close()\n",
    "conn.commit()\n",
    "conn.close()"
   ]
  },
  {
   "cell_type": "markdown",
   "metadata": {},
   "source": [
    "## 21. Tablolardan 1 tanesini M ile truncate edin"
   ]
  },
  {
   "cell_type": "code",
   "execution_count": null,
   "metadata": {},
   "outputs": [],
   "source": [
    "Truncate edildi."
   ]
  },
  {
   "cell_type": "markdown",
   "metadata": {},
   "source": [
    "## 22. Tablolardan 1 tanesini K ile truncate edin."
   ]
  },
  {
   "cell_type": "code",
   "execution_count": null,
   "metadata": {},
   "outputs": [],
   "source": [
    "truncate table new_city;"
   ]
  },
  {
   "cell_type": "markdown",
   "metadata": {},
   "source": [
    "## 23. Tablolardan 1 tanesini C ile truncate edin."
   ]
  },
  {
   "cell_type": "code",
   "execution_count": null,
   "metadata": {},
   "outputs": [],
   "source": [
    "conn=psycopg2.connect(\"dbname=class4 user=postgres password=124578\")\n",
    "cur=conn.cursor()\n",
    "cur.execute(\"truncate table new_city_2\")\n",
    "cur.close()\n",
    "conn.commit()\n",
    "conn.close()"
   ]
  },
  {
   "cell_type": "markdown",
   "metadata": {},
   "source": [
    "## 24. Truncate edilmis tabloyu M ile silin."
   ]
  },
  {
   "cell_type": "code",
   "execution_count": null,
   "metadata": {},
   "outputs": [],
   "source": [
    "Silindi"
   ]
  },
  {
   "cell_type": "markdown",
   "metadata": {},
   "source": [
    "## 25. Truncate edilmis tabloyu K ile silin."
   ]
  },
  {
   "cell_type": "code",
   "execution_count": null,
   "metadata": {},
   "outputs": [],
   "source": [
    "drop table new_city;"
   ]
  },
  {
   "cell_type": "markdown",
   "metadata": {},
   "source": [
    "## 26. Truncate edilmis tabloyu C ile silin."
   ]
  },
  {
   "cell_type": "code",
   "execution_count": null,
   "metadata": {},
   "outputs": [],
   "source": [
    "conn=psycopg2.connect(\"dbname=class4 user=postgres password=124578\")\n",
    "cur=conn.cursor()\n",
    "cur.execute(\"drop table new_city_2\")\n",
    "cur.close()\n",
    "conn.commit()\n",
    "conn.close()"
   ]
  },
  {
   "cell_type": "markdown",
   "metadata": {},
   "source": [
    "## 27. Elimizde veri olan 1 tablo kalmis olmasi lazim. Bu tabloyu csv olarak bilgisayariniza yukleyin."
   ]
  },
  {
   "cell_type": "code",
   "execution_count": null,
   "metadata": {},
   "outputs": [],
   "source": [
    "Yuklendi."
   ]
  },
  {
   "cell_type": "markdown",
   "metadata": {},
   "source": [
    "## 28. Postgresql arayuzundeki son tabloyu da K ile silin."
   ]
  },
  {
   "cell_type": "code",
   "execution_count": null,
   "metadata": {},
   "outputs": [],
   "source": [
    "drop table city;"
   ]
  },
  {
   "cell_type": "markdown",
   "metadata": {},
   "source": [
    "## 29. Bilgisayarinizdaki csv yi arayuze import edin."
   ]
  },
  {
   "cell_type": "code",
   "execution_count": null,
   "metadata": {},
   "outputs": [],
   "source": [
    "copy city (city_id, city, country_id, last_update) \n",
    "from 'C:/Users/Admin/DOCUME~1/city.cvs' DELIMITER ',' CSV HEADER ENCODING 'UTF8' QUOTE '\\\"' ESCAPE '''';"
   ]
  },
  {
   "cell_type": "markdown",
   "metadata": {},
   "source": [
    "## 30. Import ettiginiz bu tabloyu C ile silin."
   ]
  },
  {
   "cell_type": "code",
   "execution_count": null,
   "metadata": {},
   "outputs": [],
   "source": [
    "conn=psycopg2.connect(\"dbname=class4 user=postgres password=124578\")\n",
    "cur=conn.cursor()\n",
    "cur.execute(\"drop table city\")\n",
    "cur.close()\n",
    "conn.commit()\n",
    "conn.close()"
   ]
  },
  {
   "cell_type": "markdown",
   "metadata": {},
   "source": [
    "## conn.close()\n",
    "31. https://www.postgresqltutorial.com/postgresql-sample-database/ linkindeki ornek DB yi bilgisayariniza \n",
    "indirin ve arayuze yukleyin."
   ]
  },
  {
   "cell_type": "code",
   "execution_count": null,
   "metadata": {},
   "outputs": [],
   "source": [
    "indirildi ve arayuze yuklendi."
   ]
  },
  {
   "cell_type": "markdown",
   "metadata": {},
   "source": [
    "## 32. DB nizde 15 adet tablo olmasi lazim. Her tabloyu teker teker goruntuleyin ve kolon isimlerine bakarak, 5 tabloda hangi kolonun PK ve FK oldugunu yazin"
   ]
  },
  {
   "cell_type": "code",
   "execution_count": null,
   "metadata": {},
   "outputs": [],
   "source": [
    "Actor     tablosunda / PK: actor_id\n",
    "Adress    tablosunda / PK: adress_id   /  FK: city_id\n",
    "Category  tablosunda / PK: category_id\n",
    "City      tablosunda / PK: ciy_id      /  FK: country_id\n",
    "Country   tablosunda / PK: country_id"
   ]
  },
  {
   "cell_type": "markdown",
   "metadata": {},
   "source": [
    "## 33. Sorgular? (Asagidaki sorularin cevaplarini ve bu cevabi bulurken kullandiginiz kodlari yazin)"
   ]
  },
  {
   "cell_type": "markdown",
   "metadata": {},
   "source": [
    "## 34. Action filmlerinin ortalama suresi ne kadar?"
   ]
  },
  {
   "cell_type": "code",
   "execution_count": null,
   "metadata": {},
   "outputs": [],
   "source": [
    "select AVG(length) from film where (description) like '%Action%';"
   ]
  },
  {
   "cell_type": "code",
   "execution_count": null,
   "metadata": {},
   "outputs": [],
   "source": [
    "112.7045454545454545"
   ]
  },
  {
   "cell_type": "markdown",
   "metadata": {},
   "source": [
    "## 35. En cok staff olan store hangisidir?"
   ]
  },
  {
   "cell_type": "code",
   "execution_count": null,
   "metadata": {},
   "outputs": [],
   "source": [
    "SELECT store_id, \n",
    "count (store_id) FROM staff GROUP BY store_id \n",
    "ORDER BY count (store_id) DESC limit 1"
   ]
  },
  {
   "cell_type": "code",
   "execution_count": null,
   "metadata": {},
   "outputs": [],
   "source": [
    "1"
   ]
  },
  {
   "cell_type": "markdown",
   "metadata": {},
   "source": [
    "## 36. 'Gene Willis' adli actorun oynadigi filmlerin ratingi nedir?"
   ]
  },
  {
   "cell_type": "code",
   "execution_count": null,
   "metadata": {},
   "outputs": [],
   "source": []
  },
  {
   "cell_type": "code",
   "execution_count": null,
   "metadata": {},
   "outputs": [],
   "source": [
    "select actor_id from actor where first_name='Gene' and last_name='Willis';\n",
    "\n",
    "select film_actor.actor_id, film.rating from film_actor \n",
    "left join film on film_actor.film_id=film.film_id where actor_id=96;"
   ]
  },
  {
   "cell_type": "code",
   "execution_count": null,
   "metadata": {},
   "outputs": [],
   "source": [
    "select film_actor.actor_id, film.rating from film_actor \n",
    "left join film on film_actor.film_id=film.film_id where actor_id =\n",
    "(select actor_id from actor where first_name='Gene' and last_name='Willis')"
   ]
  },
  {
   "cell_type": "markdown",
   "metadata": {},
   "source": [
    "## 37. Aktif customer sayisi nedir?"
   ]
  },
  {
   "cell_type": "code",
   "execution_count": null,
   "metadata": {},
   "outputs": [],
   "source": [
    "select count(*) from customer where active=1"
   ]
  },
  {
   "cell_type": "code",
   "execution_count": null,
   "metadata": {},
   "outputs": [],
   "source": [
    "584"
   ]
  },
  {
   "cell_type": "markdown",
   "metadata": {},
   "source": [
    "## 38. 'C' harfiyle baslayan filmler hangileridir?"
   ]
  },
  {
   "cell_type": "code",
   "execution_count": null,
   "metadata": {},
   "outputs": [],
   "source": [
    "select * from film where title like 'C%'"
   ]
  },
  {
   "cell_type": "code",
   "execution_count": null,
   "metadata": {},
   "outputs": [],
   "source": [
    "'C' harfiyle baslayan 92 film var"
   ]
  },
  {
   "cell_type": "markdown",
   "metadata": {},
   "source": [
    "## 39. 4$ den az odeme yapan musterilerin e-mail edresleri nedir?"
   ]
  },
  {
   "cell_type": "code",
   "execution_count": null,
   "metadata": {},
   "outputs": [],
   "source": [
    "select email from customer\n",
    "left join payment on customer.customer_id=payment.customer_id\n",
    "where amount<4"
   ]
  },
  {
   "cell_type": "code",
   "execution_count": null,
   "metadata": {},
   "outputs": [],
   "source": [
    "7554 musteri var"
   ]
  },
  {
   "cell_type": "markdown",
   "metadata": {},
   "source": [
    "## 40. Moscow'da ikamet eden staff ve customer tablosu? (sadece isim/soyisim sutunu olsun)"
   ]
  },
  {
   "cell_type": "code",
   "execution_count": null,
   "metadata": {},
   "outputs": [],
   "source": [
    "select first_name, last_name from customer\n",
    "left join address on customer.address_id=address.address_id\n",
    "left join city on city.city_id=address.city_id\n",
    "where city='Moscow'"
   ]
  },
  {
   "cell_type": "code",
   "execution_count": null,
   "metadata": {},
   "outputs": [],
   "source": [
    "select first_name, last_name\n",
    "from customer\n",
    "where address_id = (select address_id from address where city_id = (select city_id from city where city = 'Moscow'))\n",
    "union\n",
    "select first_name, last_name\n",
    "from staff\n",
    "where address_id = (select address_id from address where city_id = (select city_id from city where city = 'Moscow'))"
   ]
  },
  {
   "cell_type": "code",
   "execution_count": null,
   "metadata": {},
   "outputs": [],
   "source": [
    "\"Catherine\"\t\"Campbell\""
   ]
  },
  {
   "cell_type": "markdown",
   "metadata": {},
   "source": [
    "## 41. En az kiralanan 5 film hangisidir?"
   ]
  },
  {
   "cell_type": "code",
   "execution_count": null,
   "metadata": {},
   "outputs": [],
   "source": [
    "select * from film order by rental_duration limit 5"
   ]
  },
  {
   "cell_type": "code",
   "execution_count": null,
   "metadata": {},
   "outputs": [],
   "source": [
    "\"Alone Trip\"\n",
    "\"Alabama Devil\"\n",
    "\"Agent Truman\"\n",
    "\"Ace Goldfinger\"\n",
    "\"American Circus\""
   ]
  },
  {
   "cell_type": "markdown",
   "metadata": {},
   "source": [
    "## 42. 2006 yilinda yayinlanan ingilizce filmler hangileridir?"
   ]
  },
  {
   "cell_type": "code",
   "execution_count": null,
   "metadata": {},
   "outputs": [],
   "source": [
    "select * from film \n",
    "left join language on film.film_id=language.language_id\n",
    "where release_year=2006"
   ]
  },
  {
   "cell_type": "code",
   "execution_count": null,
   "metadata": {},
   "outputs": [],
   "source": [
    "select *\n",
    "from film\n",
    "where release_year = 2006 and language_id = (select language_id from language\n",
    "where name='English')"
   ]
  },
  {
   "cell_type": "code",
   "execution_count": null,
   "metadata": {},
   "outputs": [],
   "source": [
    "select count(*)\n",
    "from film\n",
    "where release_year = 2006 and language_id = (select language_id from language\n",
    "where name='English'"
   ]
  },
  {
   "cell_type": "code",
   "execution_count": null,
   "metadata": {},
   "outputs": [],
   "source": [
    "1000 adet film var."
   ]
  }
 ],
 "metadata": {
  "kernelspec": {
   "display_name": "Python 3",
   "language": "python",
   "name": "python3"
  },
  "language_info": {
   "codemirror_mode": {
    "name": "ipython",
    "version": 3
   },
   "file_extension": ".py",
   "mimetype": "text/x-python",
   "name": "python",
   "nbconvert_exporter": "python",
   "pygments_lexer": "ipython3",
   "version": "3.8.5"
  }
 },
 "nbformat": 4,
 "nbformat_minor": 4
}
